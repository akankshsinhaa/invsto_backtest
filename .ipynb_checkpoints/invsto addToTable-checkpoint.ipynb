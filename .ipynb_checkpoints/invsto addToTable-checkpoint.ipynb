{
 "cells": [
  {
   "cell_type": "code",
   "execution_count": 44,
   "id": "a0083210",
   "metadata": {},
   "outputs": [
    {
     "name": "stdout",
     "output_type": "stream",
     "text": [
      "       datetime   close    high     low    open   volume instrument\n",
      "0    2014-01-24  114.00  115.35  113.00  113.15  5737135   HINDALCO\n",
      "1    2014-01-27  111.10  112.70  109.30  112.00  8724577   HINDALCO\n",
      "2    2014-01-28  113.80  115.00  109.75  110.00  4513345   HINDALCO\n",
      "3    2014-01-29  111.75  114.75  111.15  114.50  4713458   HINDALCO\n",
      "4    2014-01-30  108.10  110.70  107.60  110.20  5077231   HINDALCO\n",
      "...         ...     ...     ...     ...     ...      ...        ...\n",
      "1210 2018-12-21  224.00  227.45  221.80  224.25  6933691   HINDALCO\n",
      "1211 2018-12-24  217.85  224.00  216.95  224.00  4667022   HINDALCO\n",
      "1212 2018-12-26  218.60  219.80  212.90  213.85  6554865   HINDALCO\n",
      "1213 2018-12-27  220.60  223.90  219.60  221.40  7947144   HINDALCO\n",
      "1214 2018-12-28  223.50  226.05  221.00  221.00  5074920   HINDALCO\n",
      "\n",
      "[1215 rows x 7 columns]\n"
     ]
    }
   ],
   "source": [
    "import pandas as pd\n",
    "\n",
    "# Path to the Excel file\n",
    "excel_file_path = \"HINDALCO_1D.xlsx\"\n",
    "\n",
    "# Read the Excel file into a DataFrame\n",
    "df = pd.read_excel(excel_file_path)\n",
    "\n",
    "print(df)"
   ]
  },
  {
   "cell_type": "code",
   "execution_count": 45,
   "id": "790e3613",
   "metadata": {},
   "outputs": [],
   "source": [
    "import pymysql\n",
    "\n",
    "# Connect to the MySQL server\n",
    "cnx = pymysql.connect(\n",
    "    host='localhost',\n",
    "    user='root',\n",
    "    password='',\n",
    ")\n",
    "\n",
    "# Create a cursor object to execute SQL queries\n",
    "cursor = cnx.cursor()"
   ]
  },
  {
   "cell_type": "code",
   "execution_count": 46,
   "id": "396f25c9",
   "metadata": {},
   "outputs": [],
   "source": [
    "def createDatabase(database_name):\n",
    "    \n",
    "    # SQL query to create the database\n",
    "    create_database_query = f'CREATE DATABASE {database_name}'\n",
    "\n",
    "    # Execute the query to create the database\n",
    "    cursor.execute(create_database_query)\n",
    "    cursor.close()\n",
    "    cnx.close()\n",
    "\n",
    "    # Connect to the newly created database\n",
    "    "
   ]
  },
  {
   "cell_type": "code",
   "execution_count": 47,
   "id": "41a2e577",
   "metadata": {},
   "outputs": [],
   "source": [
    "def connectToDatabase(database_name):\n",
    "    global cnx\n",
    "    global cursor\n",
    "    cnx = pymysql.connect(\n",
    "        host='localhost',\n",
    "        user='root',\n",
    "        password='',\n",
    "        database=database_name\n",
    "    )\n",
    "    cursor = cnx.cursor()"
   ]
  },
  {
   "cell_type": "code",
   "execution_count": 48,
   "id": "401f9458",
   "metadata": {},
   "outputs": [],
   "source": [
    "def createTable(table_name):\n",
    "    create_table_query = '''\n",
    "    CREATE TABLE %s (\n",
    "    datetime DATETIME,\n",
    "    close DECIMAL(10, 2),\n",
    "    open DECIMAL(10, 2),\n",
    "    high DECIMAL(10, 2),\n",
    "    low DECIMAL(10, 2),\n",
    "    volume INT,\n",
    "    instrument VARCHAR(255)\n",
    "    );\n",
    "    \n",
    "    ''' % (table_name)\n",
    "\n",
    "    # Execute the query to create the table\n",
    "    cursor.execute(create_table_query)\n",
    "\n",
    "    # Commit the changes to the database\n",
    "    cnx.commit()\n",
    "    #print(create_table_query)"
   ]
  },
  {
   "cell_type": "code",
   "execution_count": 49,
   "id": "4c0c7c34",
   "metadata": {},
   "outputs": [],
   "source": [
    "def checkIfDatabaseExists(database_name):\n",
    "\n",
    "\n",
    "    # SQL query to fetch the list of databases\n",
    "    show_databases_query = 'SHOW DATABASES'\n",
    "\n",
    "    # Execute the query\n",
    "    cursor.execute(show_databases_query)\n",
    "\n",
    "    # Fetch all the databases\n",
    "    databases = cursor.fetchall()\n",
    "\n",
    "    # Check if the database exists\n",
    "    if (database_name,) in databases:\n",
    "        return True\n",
    "    else:\n",
    "        return False\n"
   ]
  },
  {
   "cell_type": "code",
   "execution_count": 50,
   "id": "1b63c379",
   "metadata": {},
   "outputs": [],
   "source": [
    "def checkIfTableExists(table_name):\n",
    "\n",
    "\n",
    "    # SQL query to check if the table exists\n",
    "    check_table_query = f\"SHOW TABLES LIKE '{table_name}'\"\n",
    "\n",
    "    # Execute the query\n",
    "    cursor.execute(check_table_query)\n",
    "\n",
    "    # Fetch the result\n",
    "    result = cursor.fetchone()\n",
    "\n",
    "    # Check if the table exists\n",
    "    if result:\n",
    "        return True\n",
    "    else:\n",
    "        return False\n",
    "\n",
    "\n"
   ]
  },
  {
   "cell_type": "code",
   "execution_count": 51,
   "id": "0dd3b968",
   "metadata": {},
   "outputs": [
    {
     "name": "stdout",
     "output_type": "stream",
     "text": [
      "Database already exists\n"
     ]
    }
   ],
   "source": [
    "if(checkIfDatabaseExists(\"invsto\")):\n",
    "    print(\"Database already exists\")\n",
    "else:\n",
    "    createDatabase(\"invsto\")"
   ]
  },
  {
   "cell_type": "code",
   "execution_count": 52,
   "id": "52963909",
   "metadata": {},
   "outputs": [],
   "source": [
    "connectToDatabase(\"invsto\")"
   ]
  },
  {
   "cell_type": "code",
   "execution_count": 53,
   "id": "915ad8ce",
   "metadata": {},
   "outputs": [
    {
     "name": "stdout",
     "output_type": "stream",
     "text": [
      "Table already exists\n"
     ]
    }
   ],
   "source": [
    "# Close the cursor and connection\n",
    "if(checkIfTableExists(\"invsto_hindalco_details\")):\n",
    "    print(\"Table already exists\")\n",
    "else:\n",
    "    createTable(\"invsto_hindalco_details\")\n"
   ]
  },
  {
   "cell_type": "code",
   "execution_count": 54,
   "id": "cbe1ec77",
   "metadata": {},
   "outputs": [],
   "source": [
    "def insertValuesInTable(datetime,close,open_price,high,low,volume,instrument):\n",
    "\n",
    "    sql = \"\"\"INSERT INTO invsto_hindalco_details (datetime, close, open, high, low, volume, instrument)\n",
    "    VALUES (%s, %f, %f, %f, %f, %d, %s)\"\"\"\n",
    "\n",
    "    # Insert the values into the table\n",
    "    sql = \"INSERT INTO invsto_hindalco_details (datetime, close, open, high, low, volume, instrument) VALUES (%s, %s, %s, %s, %s, %s, %s)\"\n",
    "    cursor.execute(sql, (datetime, close, open_price, high, low, volume, 'HINDALCO'))\n",
    "\n",
    "    # Commit the changes to the database\n",
    "    cnx.commit()"
   ]
  },
  {
   "cell_type": "code",
   "execution_count": 55,
   "id": "57630f7a",
   "metadata": {},
   "outputs": [],
   "source": [
    "def addDftoTable():\n",
    "    \n",
    "    for i in range(0,len(df.index)):\n",
    "\n",
    "        row_wise_datetime = df.loc[i][\"datetime\"]\n",
    "        row_wise_close = df.loc[i][\"close\"]\n",
    "        row_wise_high = df.loc[i][\"high\"]\n",
    "        row_wise_low = df.loc[i][\"low\"]\n",
    "        row_wise_open = df.loc[i][\"open\"]\n",
    "        row_wise_volume = df.loc[i][\"volume\"]\n",
    "        row_wise_instrument = df.loc[i][\"instrument\"]\n",
    "        insertValuesInTable(row_wise_datetime,row_wise_close,row_wise_open,row_wise_high,row_wise_low,row_wise_volume,row_wise_instrument)\n",
    "\n",
    "\n",
    "    \n",
    "    \n"
   ]
  },
  {
   "cell_type": "code",
   "execution_count": 56,
   "id": "c0ad0801",
   "metadata": {},
   "outputs": [],
   "source": [
    "#addDftoTable()"
   ]
  },
  {
   "cell_type": "code",
   "execution_count": 57,
   "id": "51830566",
   "metadata": {},
   "outputs": [],
   "source": [
    "cursor.close()\n",
    "cnx.close()"
   ]
  },
  {
   "cell_type": "code",
   "execution_count": null,
   "id": "7aa5fe92",
   "metadata": {},
   "outputs": [],
   "source": []
  }
 ],
 "metadata": {
  "kernelspec": {
   "display_name": "Python 3 (ipykernel)",
   "language": "python",
   "name": "python3"
  },
  "language_info": {
   "codemirror_mode": {
    "name": "ipython",
    "version": 3
   },
   "file_extension": ".py",
   "mimetype": "text/x-python",
   "name": "python",
   "nbconvert_exporter": "python",
   "pygments_lexer": "ipython3",
   "version": "3.9.13"
  }
 },
 "nbformat": 4,
 "nbformat_minor": 5
}
