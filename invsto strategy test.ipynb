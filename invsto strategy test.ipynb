{
 "cells": [
  {
   "cell_type": "code",
   "execution_count": 33,
   "id": "a0083210",
   "metadata": {},
   "outputs": [
    {
     "name": "stdout",
     "output_type": "stream",
     "text": [
      "       datetime   close    high     low    open   volume instrument\n",
      "0    2014-01-24  114.00  115.35  113.00  113.15  5737135   HINDALCO\n",
      "1    2014-01-27  111.10  112.70  109.30  112.00  8724577   HINDALCO\n",
      "2    2014-01-28  113.80  115.00  109.75  110.00  4513345   HINDALCO\n",
      "3    2014-01-29  111.75  114.75  111.15  114.50  4713458   HINDALCO\n",
      "4    2014-01-30  108.10  110.70  107.60  110.20  5077231   HINDALCO\n",
      "...         ...     ...     ...     ...     ...      ...        ...\n",
      "1210 2018-12-21  224.00  227.45  221.80  224.25  6933691   HINDALCO\n",
      "1211 2018-12-24  217.85  224.00  216.95  224.00  4667022   HINDALCO\n",
      "1212 2018-12-26  218.60  219.80  212.90  213.85  6554865   HINDALCO\n",
      "1213 2018-12-27  220.60  223.90  219.60  221.40  7947144   HINDALCO\n",
      "1214 2018-12-28  223.50  226.05  221.00  221.00  5074920   HINDALCO\n",
      "\n",
      "[1215 rows x 7 columns]\n"
     ]
    }
   ],
   "source": [
    "import pandas as pd\n",
    "\n",
    "# Path to the Excel file\n",
    "excel_file_path = \"HINDALCO_1D.xlsx\"\n",
    "\n",
    "# Read the Excel file into a DataFrame\n",
    "df = pd.read_excel(excel_file_path)\n",
    "\n",
    "print(df)"
   ]
  },
  {
   "cell_type": "code",
   "execution_count": 34,
   "id": "790e3613",
   "metadata": {},
   "outputs": [],
   "source": [
    "import pymysql\n",
    "\n",
    "# Connect to the MySQL server\n",
    "cnx = pymysql.connect(\n",
    "    host='localhost',\n",
    "    user='root',\n",
    "    password='',\n",
    ")\n",
    "\n",
    "# Create a cursor object to execute SQL queries\n",
    "cursor = cnx.cursor()"
   ]
  },
  {
   "cell_type": "code",
   "execution_count": 35,
   "id": "396f25c9",
   "metadata": {},
   "outputs": [],
   "source": [
    "def createDatabase(database_name):\n",
    "    \n",
    "    # SQL query to create the database\n",
    "    create_database_query = f'CREATE DATABASE {database_name}'\n",
    "\n",
    "    # Execute the query to create the database\n",
    "    cursor.execute(create_database_query)\n",
    "    cursor.close()\n",
    "    cnx.close()\n",
    "\n",
    "    # Connect to the newly created database\n",
    "    "
   ]
  },
  {
   "cell_type": "code",
   "execution_count": 36,
   "id": "41a2e577",
   "metadata": {},
   "outputs": [],
   "source": [
    "def connectToDatabase(database_name):\n",
    "    global cnx\n",
    "    global cursor\n",
    "    cnx = pymysql.connect(\n",
    "        host='localhost',\n",
    "        user='root',\n",
    "        password='',\n",
    "        database=database_name\n",
    "    )\n",
    "    cursor = cnx.cursor()"
   ]
  },
  {
   "cell_type": "code",
   "execution_count": 37,
   "id": "401f9458",
   "metadata": {},
   "outputs": [],
   "source": [
    "def createTable(table_name):\n",
    "    create_table_query = '''\n",
    "    CREATE TABLE %s (\n",
    "    datetime DATETIME,\n",
    "    close DECIMAL(10, 2),\n",
    "    open DECIMAL(10, 2),\n",
    "    high DECIMAL(10, 2),\n",
    "    low DECIMAL(10, 2),\n",
    "    volume INT,\n",
    "    instrument VARCHAR(255)\n",
    "    );\n",
    "    \n",
    "    ''' % (table_name)\n",
    "\n",
    "    # Execute the query to create the table\n",
    "    cursor.execute(create_table_query)\n",
    "\n",
    "    # Commit the changes to the database\n",
    "    cnx.commit()\n",
    "    #print(create_table_query)"
   ]
  },
  {
   "cell_type": "code",
   "execution_count": 38,
   "id": "4c0c7c34",
   "metadata": {},
   "outputs": [],
   "source": [
    "def checkIfDatabaseExists(database_name):\n",
    "\n",
    "\n",
    "    # SQL query to fetch the list of databases\n",
    "    show_databases_query = 'SHOW DATABASES'\n",
    "\n",
    "    # Execute the query\n",
    "    cursor.execute(show_databases_query)\n",
    "\n",
    "    # Fetch all the databases\n",
    "    databases = cursor.fetchall()\n",
    "\n",
    "    # Check if the database exists\n",
    "    if (database_name,) in databases:\n",
    "        return True\n",
    "    else:\n",
    "        return False\n"
   ]
  },
  {
   "cell_type": "code",
   "execution_count": 39,
   "id": "1b63c379",
   "metadata": {},
   "outputs": [],
   "source": [
    "def checkIfTableExists(table_name):\n",
    "\n",
    "\n",
    "    # SQL query to check if the table exists\n",
    "    check_table_query = f\"SHOW TABLES LIKE '{table_name}'\"\n",
    "\n",
    "    # Execute the query\n",
    "    cursor.execute(check_table_query)\n",
    "\n",
    "    # Fetch the result\n",
    "    result = cursor.fetchone()\n",
    "\n",
    "    # Check if the table exists\n",
    "    if result:\n",
    "        return True\n",
    "    else:\n",
    "        return False\n",
    "\n",
    "\n"
   ]
  },
  {
   "cell_type": "code",
   "execution_count": 40,
   "id": "0dd3b968",
   "metadata": {},
   "outputs": [
    {
     "name": "stdout",
     "output_type": "stream",
     "text": [
      "Database already exists\n"
     ]
    }
   ],
   "source": [
    "if(checkIfDatabaseExists(\"invsto\")):\n",
    "    print(\"Database already exists\")\n",
    "else:\n",
    "    createDatabase(\"invsto\")"
   ]
  },
  {
   "cell_type": "code",
   "execution_count": 41,
   "id": "52963909",
   "metadata": {},
   "outputs": [],
   "source": [
    "connectToDatabase(\"invsto\")"
   ]
  },
  {
   "cell_type": "code",
   "execution_count": 42,
   "id": "915ad8ce",
   "metadata": {},
   "outputs": [
    {
     "name": "stdout",
     "output_type": "stream",
     "text": [
      "Table already exists\n"
     ]
    }
   ],
   "source": [
    "# Close the cursor and connection\n",
    "if(checkIfTableExists(\"invsto_hindalco_details\")):\n",
    "    print(\"Table already exists\")\n",
    "else:\n",
    "    createTable(\"invsto_hindalco_details\")\n"
   ]
  },
  {
   "cell_type": "code",
   "execution_count": 43,
   "id": "cbe1ec77",
   "metadata": {},
   "outputs": [],
   "source": [
    "def insertValuesInTable(datetime,close,open_price,high,low,volume,instrument):\n",
    "\n",
    "    sql = \"\"\"INSERT INTO invsto_hindalco_details (datetime, close, open, high, low, volume, instrument)\n",
    "    VALUES (%s, %f, %f, %f, %f, %d, %s)\"\"\"\n",
    "\n",
    "    # Insert the values into the table\n",
    "    sql = \"INSERT INTO invsto_hindalco_details (datetime, close, open, high, low, volume, instrument) VALUES (%s, %s, %s, %s, %s, %s, %s)\"\n",
    "    cursor.execute(sql, (datetime, close, open_price, high, low, volume, 'HINDALCO'))\n",
    "\n",
    "    # Commit the changes to the database\n",
    "    cnx.commit()"
   ]
  },
  {
   "cell_type": "code",
   "execution_count": 14,
   "id": "57630f7a",
   "metadata": {},
   "outputs": [],
   "source": [
    "def addDftoTable():\n",
    "    \n",
    "    for i in range(0,len(df.index)):\n",
    "\n",
    "        row_wise_datetime = df.loc[i][\"datetime\"]\n",
    "        row_wise_close = df.loc[i][\"close\"]\n",
    "        row_wise_high = df.loc[i][\"high\"]\n",
    "        row_wise_low = df.loc[i][\"low\"]\n",
    "        row_wise_open = df.loc[i][\"open\"]\n",
    "        row_wise_volume = df.loc[i][\"volume\"]\n",
    "        row_wise_instrument = df.loc[i][\"instrument\"]\n",
    "        insertValuesInTable(row_wise_datetime,row_wise_close,row_wise_open,row_wise_high,row_wise_low,row_wise_volume,row_wise_instrument)\n",
    "\n",
    "\n",
    "    \n",
    "    \n"
   ]
  },
  {
   "cell_type": "code",
   "execution_count": 44,
   "id": "87ac48c4",
   "metadata": {},
   "outputs": [
    {
     "name": "stdout",
     "output_type": "stream",
     "text": [
      "Buy 82 shares at 120.80\n",
      "Sell 82 shares at 124.55 | P/L: 213.10\n",
      "Buy 74 shares at 136.75\n",
      "Sell 74 shares at 152.05 | P/L: 1251.70\n",
      "Buy 62 shares at 178.60\n",
      "Sell 62 shares at 156.50 | P/L: -297.00\n",
      "Buy 63 shares at 153.20\n",
      "Sell 63 shares at 160.10 | P/L: 86.30\n",
      "Buy 71 shares at 141.90\n",
      "Sell 71 shares at 149.20 | P/L: 593.20\n",
      "Buy 81 shares at 130.35\n",
      "Sell 81 shares at 139.90 | P/L: 1331.90\n",
      "Buy 86 shares at 130.60\n",
      "Sell 86 shares at 133.50 | P/L: 1481.00\n",
      "Buy 89 shares at 128.35\n",
      "Sell 89 shares at 108.70 | P/L: -325.70\n",
      "Buy 88 shares at 109.55\n",
      "Sell 88 shares at 86.15 | P/L: -2418.80\n",
      "Buy 92 shares at 81.85\n",
      "Sell 92 shares at 75.70 | P/L: -3035.60\n",
      "Buy 90 shares at 76.70\n",
      "Sell 90 shares at 70.25 | P/L: -3677.50\n",
      "Buy 69 shares at 91.60\n",
      "Sell 69 shares at 103.10 | P/L: -2886.10\n",
      "Buy 48 shares at 145.55\n",
      "Sell 48 shares at 154.25 | P/L: -2596.00\n",
      "Buy 49 shares at 150.50\n",
      "Sell 49 shares at 167.40 | P/L: -1797.40\n",
      "Buy 48 shares at 168.80\n",
      "Sell 48 shares at 172.25 | P/L: -1732.00\n",
      "Buy 45 shares at 183.65\n",
      "Sell 45 shares at 192.55 | P/L: -1335.25\n",
      "Buy 44 shares at 193.60\n",
      "Sell 44 shares at 192.45 | P/L: -1532.20\n",
      "Buy 42 shares at 198.85\n",
      "Sell 42 shares at 187.05 | P/L: -2143.90\n",
      "Buy 41 shares at 187.75\n",
      "Sell 41 shares at 204.70 | P/L: -1607.30\n",
      "Buy 35 shares at 233.65\n",
      "Sell 35 shares at 264.45 | P/L: -744.25\n",
      "Buy 35 shares at 264.05\n",
      "Sell 35 shares at 267.85 | P/L: -625.25\n",
      "Buy 36 shares at 258.00\n",
      "Sell 36 shares at 237.80 | P/L: -1439.20\n",
      "Buy 35 shares at 238.70\n",
      "Sell 35 shares at 228.25 | P/L: -2011.25\n",
      "Buy 32 shares at 242.50\n",
      "Sell 32 shares at 242.05 | P/L: -2254.40\n",
      "Buy 34 shares at 222.30\n",
      "Sell 34 shares at 220.60 | P/L: -2499.60\n",
      "Buy 34 shares at 216.50\n",
      "Sell 34 shares at 242.60 | P/L: -1751.60\n",
      "Buy 37 shares at 218.80\n",
      "Final portfolio value: 8269.50 | P/L: -1730.50\n"
     ]
    }
   ],
   "source": [
    "import pandas as pd\n",
    "\n",
    "# Calculate the 10-day and 20-day SMAs\n",
    "df['SMA10'] = df['close'].rolling(window=10).mean()\n",
    "df['SMA20'] = df['close'].rolling(window=20).mean()\n",
    "\n",
    "# Initialize a column to store trading signals\n",
    "df['Signal'] = 0\n",
    "\n",
    "# Generate trading signals\n",
    "df.loc[(df['SMA10'] > df['SMA20']) & (df['SMA10'].shift(1) < df['SMA20'].shift(1)), 'Signal'] = 1  # Buy signal\n",
    "df.loc[(df['SMA10'] < df['SMA20']) & (df['SMA10'].shift(1) > df['SMA20'].shift(1)), 'Signal'] = -1  # Sell signal\n",
    "\n",
    "# Calculate the positions based on the trading signals\n",
    "df['Position'] = df['Signal'].diff()\n",
    "\n",
    "# Backtest the trading strategy\n",
    "initial_capital = 10000  # Assuming initial capital of 10000\n",
    "position = 0  # 0 for out of market, 1 for long, -1 for short\n",
    "shares = 0  # Number of shares held\n",
    "for i, row in df.iterrows():\n",
    "    if row['Position'] == 1:  # Buy signal\n",
    "        if position == 0:  # If out of market\n",
    "            position = 1  # Enter long position\n",
    "            shares = int(initial_capital / row['close'])\n",
    "            initial_capital = 0\n",
    "            print(f\"Buy {shares} shares at {row['close']:.2f}\")\n",
    "    elif row['Position'] == -1:  # Sell signal\n",
    "        if position == 1:  # If in long position\n",
    "            position = 0  # Exit long position\n",
    "            initial_capital = shares * row['close']\n",
    "            pl = initial_capital - 10000  # Calculate profit or loss\n",
    "            print(f\"Sell {shares} shares at {row['close']:.2f} | P/L: {pl:.2f}\")\n",
    "            shares = 0\n",
    "\n",
    "\n",
    "# Calculate the final portfolio value\n",
    "final_value = initial_capital + (shares * df['close'].iloc[-1])\n",
    "pl_final = final_value - 10000  # Calculate final profit or loss\n",
    "print(f\"Final portfolio value: {final_value:.2f} | P/L: {pl_final:.2f}\")\n"
   ]
  },
  {
   "cell_type": "code",
   "execution_count": 45,
   "id": "79f6849c",
   "metadata": {},
   "outputs": [
    {
     "name": "stdout",
     "output_type": "stream",
     "text": [
      "       datetime   close    high     low    open   volume instrument    SMA10  \\\n",
      "0    2014-01-24  114.00  115.35  113.00  113.15  5737135   HINDALCO      NaN   \n",
      "1    2014-01-27  111.10  112.70  109.30  112.00  8724577   HINDALCO      NaN   \n",
      "2    2014-01-28  113.80  115.00  109.75  110.00  4513345   HINDALCO      NaN   \n",
      "3    2014-01-29  111.75  114.75  111.15  114.50  4713458   HINDALCO      NaN   \n",
      "4    2014-01-30  108.10  110.70  107.60  110.20  5077231   HINDALCO      NaN   \n",
      "...         ...     ...     ...     ...     ...      ...        ...      ...   \n",
      "1210 2018-12-21  224.00  227.45  221.80  224.25  6933691   HINDALCO  222.165   \n",
      "1211 2018-12-24  217.85  224.00  216.95  224.00  4667022   HINDALCO  222.160   \n",
      "1212 2018-12-26  218.60  219.80  212.90  213.85  6554865   HINDALCO  222.395   \n",
      "1213 2018-12-27  220.60  223.90  219.60  221.40  7947144   HINDALCO  222.325   \n",
      "1214 2018-12-28  223.50  226.05  221.00  221.00  5074920   HINDALCO  222.645   \n",
      "\n",
      "         SMA20  Signal  Position  \n",
      "0          NaN       0       NaN  \n",
      "1          NaN       0       0.0  \n",
      "2          NaN       0       0.0  \n",
      "3          NaN       0       0.0  \n",
      "4          NaN       0       0.0  \n",
      "...        ...     ...       ...  \n",
      "1210  222.5775       0       0.0  \n",
      "1211  222.5300       0       0.0  \n",
      "1212  222.4650       0       0.0  \n",
      "1213  222.6925       0       0.0  \n",
      "1214  222.6425       1       1.0  \n",
      "\n",
      "[1215 rows x 11 columns]\n"
     ]
    }
   ],
   "source": [
    "print(df)"
   ]
  },
  {
   "cell_type": "code",
   "execution_count": 46,
   "id": "25a634f1",
   "metadata": {},
   "outputs": [],
   "source": [
    "#Unit Test\n",
    "\n"
   ]
  },
  {
   "cell_type": "code",
   "execution_count": 47,
   "id": "51830566",
   "metadata": {},
   "outputs": [],
   "source": [
    "cursor.close()\n",
    "cnx.close()"
   ]
  },
  {
   "cell_type": "code",
   "execution_count": null,
   "id": "bce6ca35",
   "metadata": {},
   "outputs": [],
   "source": []
  },
  {
   "cell_type": "code",
   "execution_count": null,
   "id": "f0fdd5ea",
   "metadata": {},
   "outputs": [],
   "source": []
  }
 ],
 "metadata": {
  "kernelspec": {
   "display_name": "Python 3 (ipykernel)",
   "language": "python",
   "name": "python3"
  },
  "language_info": {
   "codemirror_mode": {
    "name": "ipython",
    "version": 3
   },
   "file_extension": ".py",
   "mimetype": "text/x-python",
   "name": "python",
   "nbconvert_exporter": "python",
   "pygments_lexer": "ipython3",
   "version": "3.9.13"
  }
 },
 "nbformat": 4,
 "nbformat_minor": 5
}
